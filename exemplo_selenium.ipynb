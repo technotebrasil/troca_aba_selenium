{
 "cells": [
  {
   "cell_type": "code",
   "execution_count": 12,
   "metadata": {},
   "outputs": [],
   "source": [
    "from selenium import webdriver\n",
    "from selenium.webdriver.common.keys import Keys\n",
    "from selenium.webdriver.common.by import By\n",
    "import requests\n",
    "from pathlib import Path\n",
    "import glob\n",
    "import os\n",
    "import time\n",
    "import pandas as pd"
   ]
  },
  {
   "cell_type": "code",
   "execution_count": 14,
   "metadata": {},
   "outputs": [
    {
     "name": "stderr",
     "output_type": "stream",
     "text": [
      "C:\\Users\\empre\\AppData\\Local\\Temp\\ipykernel_14468\\3134279606.py:1: DeprecationWarning: executable_path has been deprecated, please pass in a Service object\n",
      "  driver = webdriver.Chrome('C:/chromedriver')\n"
     ]
    },
    {
     "name": "stdout",
     "output_type": "stream",
     "text": [
      "Nome primeira página = Lotofácil - Portal Loterias | CAIXA\n",
      "Nome segunda página = Locais da Sorte - Portal Loterias | CAIXA\n"
     ]
    }
   ],
   "source": [
    "driver = webdriver.Chrome('C:/chromedriver')\n",
    "\n",
    "driver.get('endereco_da_pagina')\n",
    "\n",
    "# printa o titulo da página\n",
    "print(\"Nome primeira página = \" + driver.title)\n",
    "  \n",
    "# clica no botão para conhecer os detalhes das apostas ganhadoras\n",
    "driver.find_element(By.XPATH, 'caminho_do_xpath').click()\n",
    "  \n",
    "# troca para a aba que abriu em 10 segundos\n",
    "time.sleep(10)  \n",
    "\n",
    "newURl = driver.window_handles[1]\n",
    "\n",
    "driver.switch_to.window(newURl)\n",
    "\n",
    "print(\"Nome segunda página = \" + driver.title)\n",
    "\n",
    "driver.close()\n",
    "\n",
    "volta_aba_inicial = driver.window_handles[0]\n",
    "\n",
    "driver.switch_to.window(volta_aba_inicial)\n",
    "\n",
    "time.sleep(5)\n",
    "\n",
    "driver.close()\n",
    "\n",
    "\n",
    "\n",
    "\n"
   ]
  }
 ],
 "metadata": {
  "kernelspec": {
   "display_name": "Python 3",
   "language": "python",
   "name": "python3"
  },
  "language_info": {
   "codemirror_mode": {
    "name": "ipython",
    "version": 3
   },
   "file_extension": ".py",
   "mimetype": "text/x-python",
   "name": "python",
   "nbconvert_exporter": "python",
   "pygments_lexer": "ipython3",
   "version": "3.9.2"
  },
  "orig_nbformat": 4,
  "vscode": {
   "interpreter": {
    "hash": "81794d4967e6c3204c66dcd87b604927b115b27c00565d3d43f05ba2f3a2cb0d"
   }
  }
 },
 "nbformat": 4,
 "nbformat_minor": 2
}
